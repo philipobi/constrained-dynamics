{
 "cells": [
  {
   "cell_type": "code",
   "execution_count": 1,
   "metadata": {},
   "outputs": [],
   "source": [
    "from utils import Simulation\n",
    "import numpy as np\n",
    "sim = Simulation()"
   ]
  },
  {
   "cell_type": "code",
   "execution_count": 29,
   "metadata": {},
   "outputs": [],
   "source": [
    "for i in range(10000):\n",
    "    sim.run(0.01)"
   ]
  },
  {
   "cell_type": "code",
   "execution_count": 31,
   "metadata": {},
   "outputs": [
    {
     "name": "stdout",
     "output_type": "stream",
     "text": [
      "\n",
      "\n",
      "q\n",
      "\n",
      "\n",
      "[-3.76374208e-04  0.00000000e+00 -2.56137586e-03 -3.76374208e-04\n",
      "  5.00000000e+00 -2.56137586e-03 -3.76374208e-04  1.00000000e+01\n",
      " -2.56137586e-03 -1.27621311e+00  0.00000000e+00 -4.87613795e+00\n",
      " -1.27621311e+00  5.00000000e+00 -4.87613795e+00 -1.27621311e+00\n",
      "  1.00000000e+01 -4.87613795e+00 -4.92938201e+00  0.00000000e+00\n",
      " -8.45023157e+00 -4.92938201e+00  5.00000000e+00 -8.45023157e+00\n",
      " -4.92938201e+00  1.00000000e+01 -8.45023157e+00]\n",
      "\n",
      "\n",
      "dq\n",
      "\n",
      "\n",
      "[ 5.97555733e-04  0.00000000e+00  3.12281539e-04  5.97555733e-04\n",
      "  0.00000000e+00  3.12281539e-04  5.97555733e-04  0.00000000e+00\n",
      "  3.12281539e-04 -7.10447542e+00  0.00000000e+00  1.76292562e+00\n",
      " -7.10447542e+00  0.00000000e+00  1.76292562e+00 -7.10447542e+00\n",
      "  0.00000000e+00  1.76292562e+00 -1.22689634e+01  0.00000000e+00\n",
      "  6.93318377e+00 -1.22689634e+01  0.00000000e+00  6.93318377e+00\n",
      " -1.22689634e+01  0.00000000e+00  6.93318377e+00]\n",
      "\n",
      "\n",
      "q\n",
      "\n",
      "\n",
      "[-6.47606085e-04  0.00000000e+00 -2.51749274e-03 -6.47606085e-04\n",
      "  5.00000000e+00 -2.51749274e-03 -6.47606085e-04  1.00000000e+01\n",
      " -2.51749274e-03 -1.34783676e+00  0.00000000e+00 -4.85728801e+00\n",
      " -1.34783676e+00  5.00000000e+00 -4.85728801e+00 -1.34783676e+00\n",
      "  1.00000000e+01 -4.85728801e+00 -5.05051861e+00  0.00000000e+00\n",
      " -8.38036131e+00 -5.05051861e+00  5.00000000e+00 -8.38036131e+00\n",
      " -5.05051861e+00  1.00000000e+01 -8.38036131e+00]\n",
      "\n",
      "\n",
      "dq\n",
      "\n",
      "\n",
      "[-2.71231878e-02  0.00000000e+00  4.38831167e-03 -2.71231878e-02\n",
      "  0.00000000e+00  4.38831167e-03 -2.71231878e-02  0.00000000e+00\n",
      "  4.38831167e-03 -7.16236536e+00  0.00000000e+00  1.88499386e+00\n",
      " -7.16236536e+00  0.00000000e+00  1.88499386e+00 -7.16236536e+00\n",
      "  0.00000000e+00  1.88499386e+00 -1.21136601e+01  0.00000000e+00\n",
      "  6.98702543e+00 -1.21136601e+01  0.00000000e+00  6.98702543e+00\n",
      " -1.21136601e+01  0.00000000e+00  6.98702543e+00]\n"
     ]
    }
   ],
   "source": [
    "np.savetxt(\"q.txt\", sim.q.reshape(1, -1))\n",
    "np.savetxt(\"dq.txt\", sim.dq.reshape(1, -1))\n",
    "np.savetxt(\"F.txt\", sim.f_ext.reshape(1, -1))\n",
    "print(\"\\n\\nq\\n\\n\")\n",
    "print(sim.q)\n",
    "print(\"\\n\\ndq\\n\\n\")\n",
    "print(sim.dq)\n",
    "sim.run(0.01)\n",
    "print(\"\\n\\nq\\n\\n\")\n",
    "print(sim.q)\n",
    "print(\"\\n\\ndq\\n\\n\")\n",
    "print(sim.dq)"
   ]
  },
  {
   "cell_type": "code",
   "execution_count": 1,
   "metadata": {},
   "outputs": [],
   "source": [
    "import numpy as np"
   ]
  },
  {
   "cell_type": "code",
   "execution_count": 2,
   "metadata": {},
   "outputs": [],
   "source": [
    "data = np.loadtxt(\"positions.txt\")"
   ]
  },
  {
   "cell_type": "code",
   "execution_count": 3,
   "metadata": {},
   "outputs": [
    {
     "data": {
      "text/plain": [
       "array([ 0.00e+00,  0.00e+00, -9.81e-04,  0.00e+00,  5.00e+00, -9.81e-04,\n",
       "        0.00e+00,  1.00e+01, -9.81e-04,  5.00e+00,  0.00e+00, -9.81e-04,\n",
       "        5.00e+00,  5.00e+00, -9.81e-04,  5.00e+00,  1.00e+01, -9.81e-04,\n",
       "        1.00e+01,  0.00e+00, -9.81e-04,  1.00e+01,  5.00e+00, -9.81e-04,\n",
       "        1.00e+01,  1.00e+01, -9.81e-04])"
      ]
     },
     "execution_count": 3,
     "metadata": {},
     "output_type": "execute_result"
    }
   ],
   "source": []
  },
  {
   "cell_type": "code",
   "execution_count": null,
   "metadata": {},
   "outputs": [],
   "source": []
  }
 ],
 "metadata": {
  "kernelspec": {
   "display_name": "Python 3",
   "language": "python",
   "name": "python3"
  },
  "language_info": {
   "codemirror_mode": {
    "name": "ipython",
    "version": 3
   },
   "file_extension": ".py",
   "mimetype": "text/x-python",
   "name": "python",
   "nbconvert_exporter": "python",
   "pygments_lexer": "ipython3",
   "version": "3.12.1"
  }
 },
 "nbformat": 4,
 "nbformat_minor": 2
}
