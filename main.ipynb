{
 "cells": [
  {
   "cell_type": "code",
   "execution_count": 1,
   "metadata": {},
   "outputs": [],
   "source": [
    "from utils import Simulation"
   ]
  },
  {
   "cell_type": "code",
   "execution_count": 2,
   "metadata": {},
   "outputs": [],
   "source": [
    "sim = Simulation()"
   ]
  },
  {
   "cell_type": "code",
   "execution_count": 17,
   "metadata": {},
   "outputs": [],
   "source": [
    "for i in range(100):\n",
    "    sim.run(.01)"
   ]
  },
  {
   "cell_type": "code",
   "execution_count": 6,
   "metadata": {},
   "outputs": [],
   "source": [
    "import numpy as np"
   ]
  },
  {
   "cell_type": "code",
   "execution_count": 19,
   "metadata": {},
   "outputs": [
    {
     "data": {
      "text/plain": [
       "array([ 0.00000000e+00,  0.00000000e+00,  0.00000000e+00,  0.00000000e+00,\n",
       "        0.00000000e+00,  0.00000000e+00, -3.27544001e-01, -1.83073105e-01,\n",
       "       -3.27544001e-01, -1.83073105e-01, -3.27544001e-01, -1.83073105e-01,\n",
       "       -2.10504623e+03, -2.10504623e+03, -2.10504623e+03])"
      ]
     },
     "execution_count": 19,
     "metadata": {},
     "output_type": "execute_result"
    }
   ],
   "source": [
    "sim.x"
   ]
  },
  {
   "cell_type": "code",
   "execution_count": 20,
   "metadata": {},
   "outputs": [],
   "source": [
    "import scipy"
   ]
  },
  {
   "cell_type": "code",
   "execution_count": 21,
   "metadata": {},
   "outputs": [],
   "source": [
    "mat = scipy.io.loadmat(\"/Users/philip/Downloads/LF10.mat\")"
   ]
  },
  {
   "cell_type": "code",
   "execution_count": 23,
   "metadata": {},
   "outputs": [],
   "source": [
    "arr = mat[\"Problem\"]"
   ]
  },
  {
   "cell_type": "code",
   "execution_count": 29,
   "metadata": {},
   "outputs": [],
   "source": [
    "arr = arr.flatten().flatten()"
   ]
  },
  {
   "cell_type": "code",
   "execution_count": 38,
   "metadata": {},
   "outputs": [],
   "source": [
    "data = list(arr[0])[2:7]"
   ]
  },
  {
   "cell_type": "code",
   "execution_count": 39,
   "metadata": {},
   "outputs": [
    {
     "data": {
      "text/plain": [
       "[<18x18 sparse matrix of type '<class 'numpy.float64'>'\n",
       " \twith 82 stored elements in Compressed Sparse Column format>,\n",
       " array([[1438]], dtype=uint16),\n",
       " array(['Primary matrix in this model reduction problem is the Oberwolfach K matrix'],\n",
       "       dtype='<U74'),\n",
       " array([[(<18x18 sparse matrix of type '<class 'numpy.float64'>'\n",
       "         \twith 82 stored elements in Compressed Sparse Column format>, <18x18 sparse matrix of type '<class 'numpy.float64'>'\n",
       "         \twith 82 stored elements in Compressed Sparse Column format>, <18x1 sparse matrix of type '<class 'numpy.float64'>'\n",
       "         \twith 1 stored elements in Compressed Sparse Column format>, <1x18 sparse matrix of type '<class 'numpy.float64'>'\n",
       "         \twith 1 stored elements in Compressed Sparse Column format>)                                                        ]],\n",
       "       dtype=[('M', 'O'), ('E', 'O'), ('B', 'O'), ('C', 'O')]),\n",
       " array(['2004'], dtype='<U4')]"
      ]
     },
     "execution_count": 39,
     "metadata": {},
     "output_type": "execute_result"
    }
   ],
   "source": [
    "data"
   ]
  },
  {
   "cell_type": "code",
   "execution_count": null,
   "metadata": {},
   "outputs": [],
   "source": []
  }
 ],
 "metadata": {
  "kernelspec": {
   "display_name": "Python 3",
   "language": "python",
   "name": "python3"
  },
  "language_info": {
   "codemirror_mode": {
    "name": "ipython",
    "version": 3
   },
   "file_extension": ".py",
   "mimetype": "text/x-python",
   "name": "python",
   "nbconvert_exporter": "python",
   "pygments_lexer": "ipython3",
   "version": "3.12.1"
  }
 },
 "nbformat": 4,
 "nbformat_minor": 2
}
