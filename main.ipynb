{
 "cells": [
  {
   "cell_type": "code",
   "execution_count": 3,
   "metadata": {},
   "outputs": [
    {
     "data": {
      "text/plain": [
       "array([[6., 0., 3., 0., 3., 3.],\n",
       "       [0., 6., 3., 0., 3., 3.],\n",
       "       [3., 3., 6., 0., 3., 3.],\n",
       "       [0., 0., 0., 0., 0., 0.],\n",
       "       [3., 3., 3., 0., 6., 0.],\n",
       "       [3., 3., 3., 0., 0., 6.]])"
      ]
     },
     "execution_count": 3,
     "metadata": {},
     "output_type": "execute_result"
    }
   ],
   "source": [
    "import numpy as np\n",
    "\n",
    "A = np.array([\n",
    "    [1,1,1,0,0,0,1,1,1,0,0,0],\n",
    "    [0,0,0,1,1,1,0,0,0,1,1,1],\n",
    "    [1,1,1,0,0,0,0,0,0,1,1,1],\n",
    "    [0,0,0,0,0,0,0,0,0,0,0,0],\n",
    "    [1,1,1,1,1,1,0,0,0,0,0,0],\n",
    "    [0,0,0,0,0,0,1,1,1,1,1,1],\n",
    "    ],dtype=np.float64)\n",
    "\n",
    "np.matmul(A,A.T)"
   ]
  },
  {
   "cell_type": "code",
   "execution_count": 6,
   "metadata": {},
   "outputs": [],
   "source": [
    "np.savetxt(\"matrix.txt\",np.eye(10,10))"
   ]
  },
  {
   "cell_type": "code",
   "execution_count": null,
   "metadata": {},
   "outputs": [],
   "source": [
    "\"\"\"\n",
    "i   x   x   x       x    x\n",
    "j       x       x   x\n",
    "\"\"\""
   ]
  }
 ],
 "metadata": {
  "kernelspec": {
   "display_name": "Python 3",
   "language": "python",
   "name": "python3"
  },
  "language_info": {
   "codemirror_mode": {
    "name": "ipython",
    "version": 3
   },
   "file_extension": ".py",
   "mimetype": "text/x-python",
   "name": "python",
   "nbconvert_exporter": "python",
   "pygments_lexer": "ipython3",
   "version": "3.12.1"
  }
 },
 "nbformat": 4,
 "nbformat_minor": 2
}
