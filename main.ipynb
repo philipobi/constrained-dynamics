{
 "cells": [
  {
   "cell_type": "code",
   "execution_count": 1,
   "metadata": {},
   "outputs": [],
   "source": [
    "from utils import Simulation\n",
    "import numpy as np\n",
    "sim = Simulation()"
   ]
  },
  {
   "cell_type": "code",
   "execution_count": 2,
   "metadata": {},
   "outputs": [],
   "source": [
    "for i in range(1000):\n",
    "    sim.run(.01)"
   ]
  },
  {
   "cell_type": "code",
   "execution_count": 3,
   "metadata": {},
   "outputs": [
    {
     "name": "stdout",
     "output_type": "stream",
     "text": [
      "[  0.           0.           0.           0.           0.\n",
      "   0.          -1.44725883  -0.73493013  -1.44725883  -0.73493013\n",
      "  -1.44725883  -0.73493013 -42.74356254 -42.74356254 -42.74356254]\n"
     ]
    }
   ],
   "source": [
    "np.savetxt(\"matrix.txt\", sim.left.toarray())\n",
    "np.savetxt(\"vector.txt\", sim.right.reshape((1,-1)))\n",
    "print(sim.x)"
   ]
  },
  {
   "cell_type": "code",
   "execution_count": null,
   "metadata": {},
   "outputs": [],
   "source": []
  },
  {
   "cell_type": "code",
   "execution_count": null,
   "metadata": {},
   "outputs": [],
   "source": []
  }
 ],
 "metadata": {
  "kernelspec": {
   "display_name": "Python 3",
   "language": "python",
   "name": "python3"
  },
  "language_info": {
   "codemirror_mode": {
    "name": "ipython",
    "version": 3
   },
   "file_extension": ".py",
   "mimetype": "text/x-python",
   "name": "python",
   "nbconvert_exporter": "python",
   "pygments_lexer": "ipython3",
   "version": "3.12.1"
  }
 },
 "nbformat": 4,
 "nbformat_minor": 2
}
